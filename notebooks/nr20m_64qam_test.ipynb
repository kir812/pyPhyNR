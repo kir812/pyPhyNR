{
  "cells": [
    {
      "cell_type": "markdown",
      "metadata": {},
      "source": [
        "# NR 20MHz 64QAM PDSCH Signal\n",
        "Simple implementation of NR20M 64QAM PDSCH with DMRS.\n",
        "\n",
        "Key parameters:\n",
        "- Bandwidth: 20 MHz\n",
        "- Numerology: 1 (30 kHz SCS)\n",
        "- PRBs: 51\n",
        "- Modulation: 64QAM\n",
        "- DMRS: Type A, symbols 2 and 11 in each slot\n"
      ]
    },
    {
      "cell_type": "code",
      "execution_count": null,
      "metadata": {},
      "outputs": [],
      "source": [
        "import pyPhyNR as pynr\n",
        "from pyPhyNR.core.signal_builder import NRSignalBuilder"
      ]
    },
    {
      "cell_type": "code",
      "execution_count": null,
      "metadata": {},
      "outputs": [],
      "source": [
        "# Create signal builder for 20MHz, numerology 1 (30kHz SCS)\n",
        "signal = NRSignalBuilder(bandwidth_mhz=20, numerology=1, cell_id=123)\n",
        "\n",
        "# Configure carrier\n",
        "signal.configure_carrier(\n",
        "    sample_rate=23.04e6,\n",
        "    fft_size=768\n",
        ").initialize_grid()\n",
        "\n",
        "# Print carrier configuration\n",
        "print(\"Carrier Configuration:\")\n",
        "print(signal.get_carrier_config())\n"
      ]
    },
    {
      "cell_type": "code",
      "execution_count": null,
      "metadata": {},
      "outputs": [],
      "source": [
        "signal.add_pdsch(\n",
        "        start_rb=0,\n",
        "        num_rb=51,  # Full bandwidth\n",
        "        start_symbol=0,\n",
        "        num_symbols=14,  # Full slot\n",
        "        slot_pattern=list(range(20)),\n",
        "        modulation=\"QAM256\",\n",
        "        power=0.0\n",
        "    ).add_dmrs(\n",
        "        dmrs_positions=[2, 11],\n",
        "        clear_full_symbol=False,\n",
        "        subcarrier_pattern=\"even\"\n",
        "    )"
      ]
    },
    {
      "cell_type": "code",
      "execution_count": null,
      "metadata": {},
      "outputs": [],
      "source": [
        "# Visualize resource grid\n",
        "print(\"\\nPlotting resource grid...\")\n",
        "pynr.utils.plot_grid_dl(signal.carrier_config, signal.grid)\n",
        "\n",
        "# Generate waveform\n",
        "print(\"\\nGenerating waveform...\")\n",
        "iq_samples = signal.generate_signal()\n",
        "\n",
        "# Plot time and frequency domain\n",
        "print(\"\\nPlotting signal analysis...\")\n",
        "pynr.utils.plot_time_domain(iq_samples, signal.carrier_config)\n",
        "pynr.utils.plot_frequency_domain(iq_samples, signal.carrier_config)\n",
        "pynr.utils.plot_constellation(iq_samples, title=\"NR 20MHz 64QAM PDSCH Signal\")\n",
        "print(len(iq_samples))\n"
      ]
    },
    {
      "cell_type": "code",
      "execution_count": null,
      "metadata": {},
      "outputs": [],
      "source": [
        "#import Backend.NeptuneLibs.Signals.signals as sig\n",
        "#sig.save_vsa_recording('nr20m_256qam_23p04.mat', iq_samples, 23.04e6)"
      ]
    }
  ],
  "metadata": {
    "kernelspec": {
      "display_name": "venv",
      "language": "python",
      "name": "python3"
    },
    "language_info": {
      "codemirror_mode": {
        "name": "ipython",
        "version": 3
      },
      "file_extension": ".py",
      "mimetype": "text/x-python",
      "name": "python",
      "nbconvert_exporter": "python",
      "pygments_lexer": "ipython3",
      "version": "3.11.5"
    }
  },
  "nbformat": 4,
  "nbformat_minor": 2
}
