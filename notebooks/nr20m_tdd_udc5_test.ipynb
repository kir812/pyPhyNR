{
  "cells": [
    {
      "cell_type": "markdown",
      "metadata": {},
      "source": [
        "# 5G NR TDD UDC5 Pattern Test\n",
        "\n",
        "This notebook generates a 5G NR TDD waveform using UDC5 pattern:\n",
        "- **Slots**: `[0,0,0,0,0,0,0,2,1,1,0,0,0,0,0,0,0,2,1,1]`\n",
        "- **Special Slot**: `[0,0,0,0,0,0,2,2,2,3,1,1,1,1]`\n",
        "\n",
        "Where:\n",
        "- `0` = DL slot/symbol\n",
        "- `1` = UL slot/symbol\n",
        "- `2` = Guard period (special slot only)\n",
        "- `3` = Switch point (special slot only)\n"
      ]
    },
    {
      "cell_type": "code",
      "execution_count": null,
      "metadata": {},
      "outputs": [],
      "source": [
        "import pyPhyNR as pynr\n",
        "from pyPhyNR.core.signal_builder import NRSignalBuilder\n"
      ]
    },
    {
      "cell_type": "code",
      "execution_count": null,
      "metadata": {},
      "outputs": [],
      "source": [
        "# UDC5 TDD Configuration\n",
        "TDD_SLOT_PATTERN = [0,0,0,0,0,0,0,2,1,1,0,0,0,0,0,0,0,2,1,1]  # 20 slots\n",
        "SPECIAL_SLOT_SYMBOL_PATTERN = [0,0,0,0,0,0,2,2,2,3,1,1,1,1]  # 14 symbols\n",
        "\n",
        "print(\"📊 TDD Configuration:\")\n",
        "print(f\"   Slot Pattern: {TDD_SLOT_PATTERN}\")\n",
        "print(f\"   Special Slot Symbols: {SPECIAL_SLOT_SYMBOL_PATTERN}\")\n",
        "\n",
        "# Count slot types\n",
        "dl_slots = TDD_SLOT_PATTERN.count(0)\n",
        "ul_slots = TDD_SLOT_PATTERN.count(1)\n",
        "special_slots = TDD_SLOT_PATTERN.count(2)\n",
        "\n",
        "print(f\"\\n📈 Slot Distribution:\")\n",
        "print(f\"   DL Slots: {dl_slots}\")\n",
        "print(f\"   UL Slots: {ul_slots}\")\n",
        "print(f\"   Special Slots: {special_slots}\")\n",
        "\n",
        "# Count special slot symbol types\n",
        "dl_symbols = SPECIAL_SLOT_SYMBOL_PATTERN.count(0)\n",
        "ul_symbols = SPECIAL_SLOT_SYMBOL_PATTERN.count(1)\n",
        "guard_symbols = SPECIAL_SLOT_SYMBOL_PATTERN.count(2)\n",
        "switch_symbols = SPECIAL_SLOT_SYMBOL_PATTERN.count(3)\n",
        "\n",
        "print(f\"\\n📈 Special Slot Symbol Distribution:\")\n",
        "print(f\"   DL Symbols: {dl_symbols}\")\n",
        "print(f\"   UL Symbols: {ul_symbols}\")\n",
        "print(f\"   Guard Symbols: {guard_symbols}\")\n",
        "print(f\"   Switch Symbols: {switch_symbols}\")\n"
      ]
    },
    {
      "cell_type": "code",
      "execution_count": null,
      "metadata": {},
      "outputs": [],
      "source": [
        "# Create signal builder for NR20, SCS30\n",
        "signal = NRSignalBuilder(bandwidth_mhz=20, numerology=1, cell_id=1)\n",
        "signal.configure_carrier(sample_rate=23.04e6, fft_size=768).initialize_grid()\n"
      ]
    },
    {
      "cell_type": "code",
      "execution_count": null,
      "metadata": {},
      "outputs": [],
      "source": [
        "# Add PDSCH to DL slots (full 14 symbols)\n",
        "dl_slots = [i for i, slot_type in enumerate(TDD_SLOT_PATTERN) if slot_type == 0]\n",
        "print(f\"Adding PDSCH to DL slots: {dl_slots}\")\n",
        "\n",
        "signal.add_pdsch(\n",
        "    start_rb=0,\n",
        "    num_rb=51,\n",
        "    start_symbol=0,\n",
        "    num_symbols=14,\n",
        "    slot_pattern=dl_slots,\n",
        "    modulation=\"QAM256\",\n",
        "    power=100.0\n",
        ").add_dmrs(\n",
        "    dmrs_positions=[2, 11],\n",
        "    clear_full_symbol=False,\n",
        "    subcarrier_pattern=\"even\",\n",
        "    power_offset_db=0.0\n",
        ")\n"
      ]
    },
    {
      "cell_type": "code",
      "execution_count": null,
      "metadata": {},
      "outputs": [],
      "source": [
        "# Add PDSCH to special slots (only DL symbols)\n",
        "special_slots = [i for i, slot_type in enumerate(TDD_SLOT_PATTERN) if slot_type == 2]\n",
        "\n",
        "# Count DL symbols in special slot\n",
        "dl_symbols_in_special = SPECIAL_SLOT_SYMBOL_PATTERN.count(0)\n",
        "print(f\"   DL symbols in special slot: {dl_symbols_in_special}\")\n",
        "\n",
        "if special_slots:\n",
        "    signal.add_pdsch(\n",
        "        start_rb=0,\n",
        "        num_rb=51,\n",
        "        start_symbol=0,\n",
        "        num_symbols=dl_symbols_in_special,\n",
        "        slot_pattern=special_slots,\n",
        "        modulation=\"QAM256\",\n",
        "        power=100.0\n",
        "    ).add_dmrs(\n",
        "        dmrs_positions=[2],\n",
        "        clear_full_symbol=False,\n",
        "        subcarrier_pattern=\"even\",\n",
        "        power_offset_db=0.0\n",
        "    )\n"
      ]
    },
    {
      "cell_type": "code",
      "execution_count": null,
      "metadata": {},
      "outputs": [],
      "source": [
        "\n",
        "print(\"\\nPlotting resource grid...\")\n",
        "pynr.utils.plot_grid_dl(signal.carrier_config, signal.grid)\n",
        "\n",
        "print(\"\\nGenerating waveform...\")\n",
        "iq_samples = signal.generate_signal()\n",
        "pynr.utils.plot_time_domain(iq_samples, signal.carrier_config)\n",
        "pynr.utils.plot_frequency_domain(iq_samples, signal.carrier_config)\n"
      ]
    }
  ],
  "metadata": {
    "kernelspec": {
      "display_name": "venv",
      "language": "python",
      "name": "python3"
    },
    "language_info": {
      "codemirror_mode": {
        "name": "ipython",
        "version": 3
      },
      "file_extension": ".py",
      "mimetype": "text/x-python",
      "name": "python",
      "nbconvert_exporter": "python",
      "pygments_lexer": "ipython3",
      "version": "3.11.5"
    }
  },
  "nbformat": 4,
  "nbformat_minor": 2
}
