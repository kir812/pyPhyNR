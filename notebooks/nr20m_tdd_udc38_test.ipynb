{
  "cells": [
    {
      "cell_type": "code",
      "execution_count": null,
      "metadata": {},
      "outputs": [],
      "source": [
        "import pyPhyNR as pynr\n",
        "from pyPhyNR.core.signal_builder import NRSignalBuilder\n"
      ]
    },
    {
      "cell_type": "code",
      "execution_count": null,
      "metadata": {},
      "outputs": [],
      "source": [
        "# TDD Configuration\n",
        "TDD_SLOT_PATTERN = [0, 0, 0, 2, 1, 1, 1, 1, 1, 1, 0, 0, 0, 0, 0, 0, 0, 0, 0, 0]\n",
        "SPECIAL_SLOT_SYMBOL_PATTERN = [0, 0, 0, 0, 0, 0, 0, 0, 2, 3, 1, 1, 1, 1]\n",
        "\n",
        "print(\"TDD Slot Pattern (20 slots):\")\n",
        "print(f\"Pattern: {TDD_SLOT_PATTERN}\")\n",
        "print(f\"DL slots: {[i for i, slot in enumerate(TDD_SLOT_PATTERN) if slot == 0]}\")\n",
        "print(f\"UL slots: {[i for i, slot in enumerate(TDD_SLOT_PATTERN) if slot == 1]}\")\n",
        "print(f\"Special slots: {[i for i, slot in enumerate(TDD_SLOT_PATTERN) if slot == 2]}\")\n",
        "\n",
        "print(\"\\nSpecial Slot Symbol Pattern (14 symbols):\")\n",
        "print(f\"Pattern: {SPECIAL_SLOT_SYMBOL_PATTERN}\")\n",
        "print(f\"DL symbols: {[i for i, sym in enumerate(SPECIAL_SLOT_SYMBOL_PATTERN) if sym == 0]}\")\n",
        "print(f\"UL symbols: {[i for i, sym in enumerate(SPECIAL_SLOT_SYMBOL_PATTERN) if sym == 1]}\")\n",
        "print(f\"Guard period: {[i for i, sym in enumerate(SPECIAL_SLOT_SYMBOL_PATTERN) if sym == 2]}\")\n",
        "print(f\"Switch point: {[i for i, sym in enumerate(SPECIAL_SLOT_SYMBOL_PATTERN) if sym == 3]}\")\n"
      ]
    },
    {
      "cell_type": "code",
      "execution_count": null,
      "metadata": {},
      "outputs": [],
      "source": [
        "# Create signal builder for 20MHz, numerology 1 (30kHz SCS)\n",
        "signal = NRSignalBuilder(bandwidth_mhz=20, numerology=1, cell_id=123)\n",
        "\n",
        "# Configure carrier\n",
        "signal.configure_carrier(\n",
        "    sample_rate=30.72e6,\n",
        "    fft_size=1024\n",
        ").initialize_grid()\n",
        "\n",
        "# Print carrier configuration\n",
        "print(\"Carrier Configuration:\")\n",
        "print(signal.get_carrier_config())\n"
      ]
    },
    {
      "cell_type": "code",
      "execution_count": null,
      "metadata": {},
      "outputs": [],
      "source": [
        "# Add PDSCH only to downlink slots\n",
        "dl_slots = [i for i, slot in enumerate(TDD_SLOT_PATTERN) if slot == 0]\n",
        "special_slots = [i for i, slot in enumerate(TDD_SLOT_PATTERN) if slot == 2]\n",
        "\n",
        "print(f\"Adding PDSCH to DL slots: {dl_slots}\")\n",
        "print(f\"Special slots (will handle separately): {special_slots}\")\n",
        "\n",
        "# Add PDSCH to downlink slots using fluent API\n",
        "# This ensures DMRS is only added to slots where PDSCH exists\n",
        "signal.add_pdsch(\n",
        "    start_rb=0,\n",
        "    num_rb=51,  # Full bandwidth\n",
        "    start_symbol=0,\n",
        "    num_symbols=14,  # Full slot\n",
        "    slot_pattern=dl_slots,\n",
        "    modulation=\"QAM64\",\n",
        "    power=0.0\n",
        ").add_dmrs(\n",
        "    dmrs_positions=[2, 11],\n",
        "    clear_full_symbol=False,\n",
        "    subcarrier_pattern=\"even\"\n",
        ")\n"
      ]
    },
    {
      "cell_type": "code",
      "execution_count": null,
      "metadata": {},
      "outputs": [],
      "source": [
        "if special_slots:\n",
        "    signal.add_pdsch(\n",
        "        start_rb=0,\n",
        "        num_rb=51,\n",
        "        start_symbol=0,\n",
        "        num_symbols=8,\n",
        "        slot_pattern=special_slots,\n",
        "        modulation=\"QAM64\",\n",
        "        power=0.0\n",
        "    ).add_dmrs(\n",
        "        dmrs_positions=[2, 7], #SA expects dmrs in symbol 7, idk why\n",
        "        clear_full_symbol=False,\n",
        "        subcarrier_pattern=\"even\"\n",
        "    )\n"
      ]
    },
    {
      "cell_type": "code",
      "execution_count": null,
      "metadata": {},
      "outputs": [],
      "source": [
        "# Visualize resource grid\n",
        "print(\"\\nPlotting resource grid...\")\n",
        "pynr.utils.plot_grid_dl(signal.carrier_config, signal.grid)\n",
        "\n",
        "# Generate waveform\n",
        "print(\"\\nGenerating waveform...\")\n",
        "iq_samples = signal.generate_signal()\n",
        "pynr.utils.plot_time_domain(iq_samples, signal.carrier_config)\n",
        "pynr.utils.plot_frequency_domain(iq_samples, signal.carrier_config)\n"
      ]
    },
    {
      "cell_type": "code",
      "execution_count": null,
      "metadata": {},
      "outputs": [],
      "source": [
        "# import Backend.NeptuneLibs.Signals.signals as sig\n",
        "# sig.save_vsa_recording('nr20m_64qam_udc38_30p72.mat', iq_samples, 30.72e6)"
      ]
    }
  ],
  "metadata": {
    "kernelspec": {
      "display_name": "venv",
      "language": "python",
      "name": "python3"
    },
    "language_info": {
      "codemirror_mode": {
        "name": "ipython",
        "version": 3
      },
      "file_extension": ".py",
      "mimetype": "text/x-python",
      "name": "python",
      "nbconvert_exporter": "python",
      "pygments_lexer": "ipython3",
      "version": "3.11.5"
    }
  },
  "nbformat": 4,
  "nbformat_minor": 2
}
