{
  "cells": [
    {
      "cell_type": "code",
      "execution_count": null,
      "metadata": {},
      "outputs": [],
      "source": [
        "import pyPhyNR as pynr\n"
      ]
    },
    {
      "cell_type": "code",
      "execution_count": null,
      "metadata": {},
      "outputs": [],
      "source": [
        "# TDD Configuration\n",
        "TDD_SLOT_PATTERN = [0, 0, 0, 2, 1, 1, 1, 1, 1, 1, 0, 0, 0, 0, 0, 0, 0, 0, 0, 0]\n",
        "SPECIAL_SLOT_SYMBOL_PATTERN = [0, 0, 0, 0, 0, 0, 0, 0, 2, 3, 1, 1, 1, 1]\n",
        "\n",
        "print(\"TDD Slot Pattern (20 slots):\")\n",
        "print(f\"Pattern: {TDD_SLOT_PATTERN}\")\n",
        "print(f\"DL slots: {[i for i, slot in enumerate(TDD_SLOT_PATTERN) if slot == 0]}\")\n",
        "print(f\"UL slots: {[i for i, slot in enumerate(TDD_SLOT_PATTERN) if slot == 1]}\")\n",
        "print(f\"Special slots: {[i for i, slot in enumerate(TDD_SLOT_PATTERN) if slot == 2]}\")\n",
        "\n",
        "print(\"\\nSpecial Slot Symbol Pattern (14 symbols):\")\n",
        "print(f\"Pattern: {SPECIAL_SLOT_SYMBOL_PATTERN}\")\n",
        "print(f\"DL symbols: {[i for i, sym in enumerate(SPECIAL_SLOT_SYMBOL_PATTERN) if sym == 0]}\")\n",
        "print(f\"UL symbols: {[i for i, sym in enumerate(SPECIAL_SLOT_SYMBOL_PATTERN) if sym == 1]}\")\n",
        "print(f\"Guard period: {[i for i, sym in enumerate(SPECIAL_SLOT_SYMBOL_PATTERN) if sym == 2]}\")\n",
        "print(f\"Switch point: {[i for i, sym in enumerate(SPECIAL_SLOT_SYMBOL_PATTERN) if sym == 3]}\")\n"
      ]
    },
    {
      "cell_type": "code",
      "execution_count": null,
      "metadata": {},
      "outputs": [],
      "source": [
        "# Create signal builder for 10MHz, numerology 1 (30kHz SCS)\n",
        "signal = pynr.NRSignalBuilder(bandwidth_mhz=10, numerology=1, cell_id=1)\n",
        "signal.configure_carrier(sample_rate=11.52e6, fft_size=384).initialize_grid()\n",
        "print(signal.get_carrier_config())"
      ]
    },
    {
      "cell_type": "code",
      "execution_count": null,
      "metadata": {},
      "outputs": [],
      "source": [
        "# Add PDSCH to DL slots\n",
        "dl_slots = [i for i, slot in enumerate(TDD_SLOT_PATTERN) if slot == 0]\n",
        "signal.add_pdsch(\n",
        "    start_rb=0,\n",
        "    num_rb=24,\n",
        "    start_symbol=0,\n",
        "    num_symbols=14,\n",
        "    slot_pattern=dl_slots,\n",
        "    modulation=\"QAM256\",\n",
        "    power=0.0\n",
        ").add_dmrs(\n",
        "    dmrs_positions=[2, 11],\n",
        "    clear_full_symbol=False,\n",
        "    subcarrier_pattern=\"even\",\n",
        "    power_offset_db=0.0\n",
        ")\n"
      ]
    },
    {
      "cell_type": "code",
      "execution_count": null,
      "metadata": {},
      "outputs": [],
      "source": [
        "# Add PDSCH to special slot\n",
        "special_slots = [i for i, slot in enumerate(TDD_SLOT_PATTERN) if slot == 2]\n",
        "dl_symbols_in_special = SPECIAL_SLOT_SYMBOL_PATTERN.count(0)\n",
        "\n",
        "if special_slots:\n",
        "    signal.add_pdsch(\n",
        "        start_rb=0,\n",
        "        num_rb=24,\n",
        "        start_symbol=0,\n",
        "        num_symbols=dl_symbols_in_special,\n",
        "        slot_pattern=special_slots,\n",
        "        modulation=\"QAM256\",\n",
        "        power=0.0\n",
        "    ).add_dmrs(\n",
        "        dmrs_positions=[2, 7],\n",
        "        clear_full_symbol=False,\n",
        "        subcarrier_pattern=\"even\",\n",
        "        power_offset_db=0.0\n",
        "    )\n"
      ]
    },
    {
      "cell_type": "code",
      "execution_count": null,
      "metadata": {},
      "outputs": [],
      "source": [
        "# Generate waveform\n",
        "pynr.utils.plot_grid_dl(signal.carrier_config, signal.grid)\n",
        "iq_samples = signal.generate_signal(target_rms=2914)\n",
        "pynr.utils.plot_time_domain(iq_samples, signal.carrier_config)\n",
        "pynr.utils.plot_frequency_domain(iq_samples, signal.carrier_config)\n"
      ]
    }
  ],
  "metadata": {
    "kernelspec": {
      "display_name": "venv",
      "language": "python",
      "name": "python3"
    },
    "language_info": {
      "codemirror_mode": {
        "name": "ipython",
        "version": 3
      },
      "file_extension": ".py",
      "mimetype": "text/x-python",
      "name": "python",
      "nbconvert_exporter": "python",
      "pygments_lexer": "ipython3",
      "version": "3.11.5"
    }
  },
  "nbformat": 4,
  "nbformat_minor": 2
}
